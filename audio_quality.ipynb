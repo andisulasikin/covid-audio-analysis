{
 "cells": [
  {
   "cell_type": "code",
   "execution_count": 4,
   "metadata": {
    "scrolled": true
   },
   "outputs": [],
   "source": [
    "import os\n",
    "import numpy as np\n",
    "from tqdm import tqdm\n",
    "from pydub import AudioSegment\n",
    "import matplotlib.pyplot as plt\n",
    "from IPython.display import display, Markdown\n",
    "from pydub.silence import split_on_silence"
   ]
  },
  {
   "cell_type": "markdown",
   "metadata": {},
   "source": [
    "# Qualitative Audio Data Analysis"
   ]
  },
  {
   "cell_type": "code",
   "execution_count": 5,
   "metadata": {},
   "outputs": [],
   "source": [
    "DATA = 'data/web_app/'\n",
    "OUT = 'data/processed/chunks/'\n",
    "FAULTY = []"
   ]
  },
  {
   "cell_type": "code",
   "execution_count": 6,
   "metadata": {},
   "outputs": [],
   "source": [
    "# saves the chunks of only important audio for later use\n",
    "def save_chunks(chunks, out_dir):\n",
    "    for i, c in enumerate(chunks):\n",
    "        c.export(out_dir+str(i)+\".wav\", format=\"wav\")\n",
    "        \n",
    "def get_chunks(data_dir):\n",
    "    n_chunks = []\n",
    "    a_durations = []\n",
    "    durations = []\n",
    "    samples = os.listdir(data_dir)\n",
    "    \n",
    "    for s in tqdm(samples):\n",
    "        try:\n",
    "            if os.path.splitext(s)[-1] != \".wav\":\n",
    "                continue\n",
    "            signal = AudioSegment.from_wav(data_dir+s)\n",
    "            durations.append(signal.duration_seconds)\n",
    "            chunks = split_on_silence(signal, \n",
    "                min_silence_len=500,\n",
    "                silence_thresh=-35\n",
    "            )\n",
    "            #save_chunks(chunks, OUT+s.replace(\".wav\", \"\"))\n",
    "            n_chunks.append(len(chunks))\n",
    "            tot = 0\n",
    "            for c in chunks:\n",
    "                tot += c.duration_seconds\n",
    "            a_durations.append(tot)\n",
    "            \n",
    "        except Exception as e:\n",
    "            #print(str(e)+\"-\"+data_dir+s)\n",
    "            FAULTY.append(data_dir+s)\n",
    "            n_chunks.append(0)\n",
    "            a_durations.append(0)\n",
    "        \n",
    "    return n_chunks, a_durations, durations\n",
    "\n"
   ]
  },
  {
   "cell_type": "code",
   "execution_count": 7,
   "metadata": {},
   "outputs": [],
   "source": [
    "def generate_data(data_dir):\n",
    "    display(Markdown(\"**Analysing**: *\"+data_dir+\"*\"))\n",
    "    \n",
    "    n_chunks, useful_durations, total_durations = get_chunks(DATA+data_dir)\n",
    "\n",
    "    avg_duration = round(np.mean(total_durations), 3)\n",
    "    avg_useful_duration = round(np.mean(useful_durations), 3)\n",
    "    n_samples = len(useful_durations)\n",
    "    \n",
    "    display(Markdown(\"**Average sample length**: \"+str(avg_duration)+\"*s*\"))\n",
    "    display(Markdown(\"**Average length of usable audio per sample**: \"+str(avg_useful_duration)+\"*s*\"))\n",
    "    \n",
    "    range_durations = {\n",
    "        \"0s\":0,\n",
    "        \"0.5s\":0,\n",
    "        \"1s\":0,\n",
    "        \"1.5s\":0,\n",
    "        \"2s\":0,\n",
    "        \"2s+\":0\n",
    "    }\n",
    "\n",
    "    for d in useful_durations:\n",
    "        if d <= 0:\n",
    "            range_durations[\"0s\"] += 1\n",
    "        elif d > 0 and d <= 0.5:\n",
    "            range_durations[\"0.5s\"] += 1\n",
    "        elif d > 0.5 and d <= 1:\n",
    "            range_durations[\"1s\"] += 1\n",
    "        elif d > 1 and d <= 1.5:\n",
    "            range_durations[\"1.5s\"] += 1\n",
    "        elif d > 1.5 and d <= 2:\n",
    "            range_durations[\"2s\"] += 1\n",
    "        else:\n",
    "            range_durations[\"2s+\"] += 1\n",
    "    \n",
    "    for key, value in range_durations.items():\n",
    "        range_durations[key] = int(round((value/n_samples)*100))\n",
    "    \n",
    "    display(Markdown(\"### Distribution of usable audio in samples:\"))\n",
    "    fig1, ax1 = plt.subplots()\n",
    "    ax1.pie(range_durations.values(), labels=range_durations.keys(), autopct='%1.1f%%', startangle=90)\n",
    "    ax1.axis('equal')\n",
    "    plt.show()\n",
    "    \n",
    "    display(Markdown(\"**\"+str(range_durations[\"0s\"])+\"%** of the samples are unusable\"))\n",
    "\n"
   ]
  },
  {
   "cell_type": "code",
   "execution_count": 9,
   "metadata": {},
   "outputs": [
    {
     "data": {
      "text/markdown": [
       "**Analysing**: *2020-04-03/*"
      ],
      "text/plain": [
       "<IPython.core.display.Markdown object>"
      ]
     },
     "metadata": {},
     "output_type": "display_data"
    },
    {
     "name": "stderr",
     "output_type": "stream",
     "text": [
      "100%|██████████| 129/129 [08:28<00:00,  3.95s/it]\n"
     ]
    },
    {
     "data": {
      "text/markdown": [
       "**Average sample length**: 52.341*s*"
      ],
      "text/plain": [
       "<IPython.core.display.Markdown object>"
      ]
     },
     "metadata": {},
     "output_type": "display_data"
    },
    {
     "data": {
      "text/markdown": [
       "**Average length of usable audio per sample**: 9.831*s*"
      ],
      "text/plain": [
       "<IPython.core.display.Markdown object>"
      ]
     },
     "metadata": {},
     "output_type": "display_data"
    },
    {
     "data": {
      "text/markdown": [
       "### Distribution of usable audio in samples:"
      ],
      "text/plain": [
       "<IPython.core.display.Markdown object>"
      ]
     },
     "metadata": {},
     "output_type": "display_data"
    },
    {
     "data": {
      "image/png": "[encoded data removed]",
      "text/plain": [
       "<Figure size 432x288 with 1 Axes>"
      ]
     },
     "metadata": {},
     "output_type": "display_data"
    },
    {
     "data": {
      "text/markdown": [
       "**12%** of the samples are unusable"
      ],
      "text/plain": [
       "<IPython.core.display.Markdown object>"
      ]
     },
     "metadata": {},
     "output_type": "display_data"
    }
   ],
   "source": [
    "generate_data(\"2020-04-03/\")"
   ]
  },
  {
   "cell_type": "code",
   "execution_count": 10,
   "metadata": {},
   "outputs": [
    {
     "data": {
      "text/markdown": [
       "**Analysing**: *2020-04-07/*"
      ],
      "text/plain": [
       "<IPython.core.display.Markdown object>"
      ]
     },
     "metadata": {},
     "output_type": "display_data"
    },
    {
     "name": "stderr",
     "output_type": "stream",
     "text": [
      "100%|██████████| 530/530 [03:13<00:00,  2.73it/s]\n"
     ]
    },
    {
     "data": {
      "text/markdown": [
       "**Average sample length**: 7.119*s*"
      ],
      "text/plain": [
       "<IPython.core.display.Markdown object>"
      ]
     },
     "metadata": {},
     "output_type": "display_data"
    },
    {
     "data": {
      "text/markdown": [
       "**Average length of usable audio per sample**: 1.791*s*"
      ],
      "text/plain": [
       "<IPython.core.display.Markdown object>"
      ]
     },
     "metadata": {},
     "output_type": "display_data"
    },
    {
     "data": {
      "text/markdown": [
       "### Distribution of usable audio in samples:"
      ],
      "text/plain": [
       "<IPython.core.display.Markdown object>"
      ]
     },
     "metadata": {},
     "output_type": "display_data"
    },
    {
     "data": {
      "image/png": "[encoded data removed]",
      "text/plain": [
       "<Figure size 432x288 with 1 Axes>"
      ]
     },
     "metadata": {},
     "output_type": "display_data"
    },
    {
     "data": {
      "text/markdown": [
       "**35%** of the samples are unusable"
      ],
      "text/plain": [
       "<IPython.core.display.Markdown object>"
      ]
     },
     "metadata": {},
     "output_type": "display_data"
    }
   ],
   "source": [
    "generate_data(\"2020-04-07/\")"
   ]
  },
  {
   "cell_type": "code",
   "execution_count": 11,
   "metadata": {},
   "outputs": [
    {
     "data": {
      "text/markdown": [
       "**Analysing**: *2020-04-10/*"
      ],
      "text/plain": [
       "<IPython.core.display.Markdown object>"
      ]
     },
     "metadata": {},
     "output_type": "display_data"
    },
    {
     "name": "stderr",
     "output_type": "stream",
     "text": [
      "100%|██████████| 519/519 [03:19<00:00,  2.60it/s]\n"
     ]
    },
    {
     "data": {
      "text/markdown": [
       "**Average sample length**: 7.317*s*"
      ],
      "text/plain": [
       "<IPython.core.display.Markdown object>"
      ]
     },
     "metadata": {},
     "output_type": "display_data"
    },
    {
     "data": {
      "text/markdown": [
       "**Average length of usable audio per sample**: 1.766*s*"
      ],
      "text/plain": [
       "<IPython.core.display.Markdown object>"
      ]
     },
     "metadata": {},
     "output_type": "display_data"
    },
    {
     "data": {
      "text/markdown": [
       "### Distribution of usable audio in samples:"
      ],
      "text/plain": [
       "<IPython.core.display.Markdown object>"
      ]
     },
     "metadata": {},
     "output_type": "display_data"
    },
    {
     "data": {
      "image/png": "[encoded data removed]",
      "text/plain": [
       "<Figure size 432x288 with 1 Axes>"
      ]
     },
     "metadata": {},
     "output_type": "display_data"
    },
    {
     "data": {
      "text/markdown": [
       "**35%** of the samples are unusable"
      ],
      "text/plain": [
       "<IPython.core.display.Markdown object>"
      ]
     },
     "metadata": {},
     "output_type": "display_data"
    }
   ],
   "source": [
    "generate_data(\"2020-04-10/\")"
   ]
  },
  {
   "cell_type": "code",
   "execution_count": 12,
   "metadata": {},
   "outputs": [
    {
     "data": {
      "text/markdown": [
       "**Analysing**: *2020-04-14/*"
      ],
      "text/plain": [
       "<IPython.core.display.Markdown object>"
      ]
     },
     "metadata": {},
     "output_type": "display_data"
    },
    {
     "name": "stderr",
     "output_type": "stream",
     "text": [
      "100%|██████████| 446/446 [04:57<00:00,  1.50it/s]\n"
     ]
    },
    {
     "data": {
      "text/markdown": [
       "**Average sample length**: 10.256*s*"
      ],
      "text/plain": [
       "<IPython.core.display.Markdown object>"
      ]
     },
     "metadata": {},
     "output_type": "display_data"
    },
    {
     "data": {
      "text/markdown": [
       "**Average length of usable audio per sample**: 2.905*s*"
      ],
      "text/plain": [
       "<IPython.core.display.Markdown object>"
      ]
     },
     "metadata": {},
     "output_type": "display_data"
    },
    {
     "data": {
      "text/markdown": [
       "### Distribution of usable audio in samples:"
      ],
      "text/plain": [
       "<IPython.core.display.Markdown object>"
      ]
     },
     "metadata": {},
     "output_type": "display_data"
    },
    {
     "data": {
      "image/png": "[encoded data removed]",
      "text/plain": [
       "<Figure size 432x288 with 1 Axes>"
      ]
     },
     "metadata": {},
     "output_type": "display_data"
    },
    {
     "data": {
      "text/markdown": [
       "**32%** of the samples are unusable"
      ],
      "text/plain": [
       "<IPython.core.display.Markdown object>"
      ]
     },
     "metadata": {},
     "output_type": "display_data"
    }
   ],
   "source": [
    "generate_data(\"2020-04-14/\")"
   ]
  },
  {
   "cell_type": "code",
   "execution_count": null,
   "metadata": {},
   "outputs": [
    {
     "data": {
      "text/markdown": [
       "**Analysing**: *2020-04-26/*"
      ],
      "text/plain": [
       "<IPython.core.display.Markdown object>"
      ]
     },
     "metadata": {},
     "output_type": "display_data"
    },
    {
     "name": "stderr",
     "output_type": "stream",
     "text": [
      " 95%|█████████▍| 642/677 [07:58<00:26,  1.35it/s]"
     ]
    }
   ],
   "source": [
    "generate_data(\"2020-04-26/\")"
   ]
  }
 ],
 "metadata": {
  "kernelspec": {
   "display_name": "Python 3",
   "language": "python",
   "name": "python3"
  },
  "language_info": {
   "codemirror_mode": {
    "name": "ipython",
    "version": 3
   },
   "file_extension": ".py",
   "mimetype": "text/x-python",
   "name": "python",
   "nbconvert_exporter": "python",
   "pygments_lexer": "ipython3",
   "version": "3.8.2"
  }
 },
 "nbformat": 4,
 "nbformat_minor": 4
}
