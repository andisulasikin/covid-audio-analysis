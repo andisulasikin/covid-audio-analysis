{
 "cells": [
  {
   "cell_type": "code",
   "execution_count": 524,
   "metadata": {},
   "outputs": [],
   "source": [
    "import os\n",
    "import pandas as pd\n",
    "import json\n",
    "import numpy as np\n",
    "from IPython.display import Markdown, display\n",
    "from os import path"
   ]
  },
  {
   "cell_type": "markdown",
   "metadata": {},
   "source": [
    "## Quantitative Audio Data Analysis"
   ]
  },
  {
   "cell_type": "code",
   "execution_count": 525,
   "metadata": {},
   "outputs": [],
   "source": [
    "def get_meta_info_for_date(PATH, DATE):\n",
    "    \n",
    "    extensions = ('.json')\n",
    "    result = pd.DataFrame(columns = ['date'])\n",
    "\n",
    "    for subdir, dirs, files in os.walk(PATH):\n",
    "        for file in files:\n",
    "            \n",
    "            ext = os.path.splitext(file)[-1].lower()\n",
    "            isCheckpointFile = \"checkpoint\" in file\n",
    "            isTempfile = \".DS_Store\" in file\n",
    "            if ext in extensions and not isCheckpointFile and not isTempfile:\n",
    "                curr = pd.json_normalize(json.load(open(PATH+file)))\n",
    "                result = result.append(curr)\n",
    "                \n",
    "    # adding date column\n",
    "    result['date'] = DATE\n",
    "    \n",
    "    # adding audio count column\n",
    "    result['audio_count'] = np.nan\n",
    "    result= result.reset_index()\n",
    "    for index, row in result.iterrows(): \n",
    "        audioCount = 0 \n",
    "        for audioFile in result['audioFiles'].values[index]:\n",
    "            if (path.exists(PATH+audioFile)):\n",
    "                audioCount = audioCount + 1\n",
    "        result['audio_count'].values[index] = audioCount\n",
    "        \n",
    "    return result"
   ]
  },
  {
   "cell_type": "code",
   "execution_count": 526,
   "metadata": {},
   "outputs": [],
   "source": [
    "def diplay_quantitative_report(webapp_meta):\n",
    "    \n",
    "    print (\"Data received on Date:\", date_received)\n",
    "    \n",
    "    print (\"\\nTotal Users: \", len(webapp_meta))\n",
    "    EXPECT_AUDIO_SAMPLE_PER_USER = 3\n",
    "    audio_complete_count = len(webapp_meta[webapp_meta['audio_count'] == EXPECT_AUDIO_SAMPLE_PER_USER])\n",
    "    missing_audio_count = len(webapp_meta) - audio_complete_count\n",
    "    print (\"Count of Users with Missing Audio Samples: \", missing_audio_count)\n",
    "    \n",
    "    healthy_count = len(webapp_meta[webapp_meta['healthStatus'] == 'healthy'])\n",
    "    suspect_count = len(webapp_meta[webapp_meta['healthStatus'] == 'suspect'])\n",
    "    covid_count = len(webapp_meta[webapp_meta['healthStatus'] == 'covid'])\n",
    "    print (\"\\nHealthy Count: \", healthy_count)\n",
    "    print (\"Suspect Count: \", suspect_count)\n",
    "    print (\"Covid Count: \", covid_count)\n",
    "    \n",
    "    print (\"\\nColumn Count Statistics\")\n",
    "    print (webapp_meta.count())\n",
    "    \n",
    "    print(\"\\n\", webapp_meta['gender'].hist(bins=2, color='green', grid = True, alpha = 0.5))\n",
    "    print(webapp_meta['healthStatus'].hist(bins=3, color='blue', grid = True, alpha = 0.5))"
   ]
  },
  {
   "cell_type": "code",
   "execution_count": 527,
   "metadata": {},
   "outputs": [],
   "source": [
    "def get_quantitative_analyse_data(path, date_received):\n",
    "    # Analyse Data\n",
    "    webapp_meta = get_meta_info_for_date(PATH = path + date_received + '/', DATE = date_received)\n",
    "    # Print Quantitative Report\n",
    "    diplay_quantitative_report(webapp_meta)\n",
    "    # Save as CSV on local\n",
    "    webapp_meta.to_csv(path + 'webapp_meta_' + date_received + '.csv', index=False)\n",
    "    print (\"Transofrmed Metadata saved on local as \", path + 'webapp_meta_' + date_received + '.csv')"
   ]
  },
  {
   "cell_type": "markdown",
   "metadata": {},
   "source": [
    "### Analysis on Data from '2020-04-07'"
   ]
  },
  {
   "cell_type": "code",
   "execution_count": 528,
   "metadata": {},
   "outputs": [
    {
     "name": "stdout",
     "output_type": "stream",
     "text": [
      "Data received on Date: 2020-04-14\n",
      "\n",
      "Total Users:  139\n",
      "Count of Users with Missing Audio Samples:  11\n",
      "\n",
      "Healthy Count:  120\n",
      "Suspect Count:  18\n",
      "Covid Count:  1\n",
      "\n",
      "Column Count Statistics\n",
      "index           139\n",
      "date            139\n",
      "id              139\n",
      "age             139\n",
      "gender          139\n",
      "healthStatus    139\n",
      "audioFiles      139\n",
      "audio_count     139\n",
      "dtype: int64\n",
      "\n",
      " AxesSubplot(0.125,0.125;0.775x0.755)\n",
      "AxesSubplot(0.125,0.125;0.775x0.755)\n",
      "Transofrmed Metadata saved on local as  data/web_app/webapp_meta_2020-04-07.csv\n"
     ]
    },
    {
     "data": {
      "image/png": "[encoded data removed]",
      "text/plain": [
       "<Figure size 432x288 with 1 Axes>"
      ]
     },
     "metadata": {
      "needs_background": "light"
     },
     "output_type": "display_data"
    }
   ],
   "source": [
    "get_quantitative_analyse_data(path = 'data/web_app/',  date_received = '2020-04-07')"
   ]
  },
  {
   "cell_type": "markdown",
   "metadata": {},
   "source": [
    "### Analysis on Data from '2020-04-10'"
   ]
  },
  {
   "cell_type": "code",
   "execution_count": 529,
   "metadata": {},
   "outputs": [
    {
     "name": "stdout",
     "output_type": "stream",
     "text": [
      "Data received on Date: 2020-04-14\n",
      "\n",
      "Total Users:  146\n",
      "Count of Users with Missing Audio Samples:  26\n",
      "\n",
      "Healthy Count:  135\n",
      "Suspect Count:  11\n",
      "Covid Count:  0\n",
      "\n",
      "Column Count Statistics\n",
      "index           146\n",
      "date            146\n",
      "id              146\n",
      "age             146\n",
      "gender          146\n",
      "healthStatus    146\n",
      "audioFiles      146\n",
      "audio_count     146\n",
      "dtype: int64\n",
      "\n",
      " AxesSubplot(0.125,0.125;0.775x0.755)\n",
      "AxesSubplot(0.125,0.125;0.775x0.755)\n",
      "Transofrmed Metadata saved on local as  data/web_app/webapp_meta_2020-04-10.csv\n"
     ]
    },
    {
     "data": {
      "image/png": "[encoded data removed]",
      "text/plain": [
       "<Figure size 432x288 with 1 Axes>"
      ]
     },
     "metadata": {
      "needs_background": "light"
     },
     "output_type": "display_data"
    }
   ],
   "source": [
    "get_quantitative_analyse_data(path = 'data/web_app/',  date_received = '2020-04-10')"
   ]
  },
  {
   "cell_type": "markdown",
   "metadata": {},
   "source": [
    "### Analysis on Data from '2020-04-14'"
   ]
  },
  {
   "cell_type": "code",
   "execution_count": 530,
   "metadata": {},
   "outputs": [
    {
     "name": "stdout",
     "output_type": "stream",
     "text": [
      "Data received on Date: 2020-04-14\n",
      "\n",
      "Total Users:  122\n",
      "Count of Users with Missing Audio Samples:  21\n",
      "\n",
      "Healthy Count:  107\n",
      "Suspect Count:  12\n",
      "Covid Count:  1\n",
      "\n",
      "Column Count Statistics\n",
      "index                        122\n",
      "date                         122\n",
      "id                           122\n",
      "age                          122\n",
      "gender                       122\n",
      "healthStatus                 122\n",
      "audioFiles                   122\n",
      "conditions.smoking            96\n",
      "conditions.contact            96\n",
      "symptoms.cough                96\n",
      "symptoms.outOfBreath          96\n",
      "conditions.diseases           30\n",
      "symptoms.headache             14\n",
      "symptoms.diarrhea              6\n",
      "symptoms.fatigue              21\n",
      "symptoms.fever                 3\n",
      "symptoms.lossOfTasteSmell      2\n",
      "audio_count                  122\n",
      "dtype: int64\n",
      "\n",
      " AxesSubplot(0.125,0.125;0.775x0.755)\n",
      "AxesSubplot(0.125,0.125;0.775x0.755)\n",
      "Transofrmed Metadata saved on local as  data/web_app/webapp_meta_2020-04-14.csv\n"
     ]
    },
    {
     "data": {
      "image/png": "[encoded data removed]",
      "text/plain": [
       "<Figure size 432x288 with 1 Axes>"
      ]
     },
     "metadata": {
      "needs_background": "light"
     },
     "output_type": "display_data"
    }
   ],
   "source": [
    "get_quantitative_analyse_data(path = 'data/web_app/',  date_received = '2020-04-14')"
   ]
  },
  {
   "cell_type": "markdown",
   "metadata": {},
   "source": [
    "### Analysis on Data from '2020-04-26'"
   ]
  },
  {
   "cell_type": "code",
   "execution_count": 531,
   "metadata": {},
   "outputs": [
    {
     "name": "stdout",
     "output_type": "stream",
     "text": [
      "Data received on Date: 2020-04-14\n",
      "\n",
      "Total Users:  189\n",
      "Count of Users with Missing Audio Samples:  31\n",
      "\n",
      "Healthy Count:  158\n",
      "Suspect Count:  28\n",
      "Covid Count:  2\n",
      "\n",
      "Column Count Statistics\n",
      "index                        189\n",
      "date                         189\n",
      "id                           189\n",
      "age                          189\n",
      "gender                       189\n",
      "healthStatus                 189\n",
      "audioFiles                   189\n",
      "conditions.smoking           188\n",
      "conditions.contact           188\n",
      "symptoms.cough               188\n",
      "symptoms.outOfBreath         188\n",
      "conditions.diseases           37\n",
      "symptoms.fever                10\n",
      "symptoms.fatigue              36\n",
      "symptoms.headache             27\n",
      "symptoms.diarrhea             13\n",
      "symptoms.lossOfTasteSmell     12\n",
      "audio_count                  189\n",
      "dtype: int64\n",
      "\n",
      " AxesSubplot(0.125,0.125;0.775x0.755)\n",
      "AxesSubplot(0.125,0.125;0.775x0.755)\n",
      "Transofrmed Metadata saved on local as  data/web_app/webapp_meta_2020-04-26.csv\n"
     ]
    },
    {
     "data": {
      "image/png": "[encoded data removed]",
      "text/plain": [
       "<Figure size 432x288 with 1 Axes>"
      ]
     },
     "metadata": {
      "needs_background": "light"
     },
     "output_type": "display_data"
    }
   ],
   "source": [
    "get_quantitative_analyse_data(path = 'data/web_app/',  date_received = '2020-04-26')"
   ]
  },
  {
   "cell_type": "code",
   "execution_count": 532,
   "metadata": {},
   "outputs": [],
   "source": [
    "# The data received on '2020-04-03' has missing JSON files"
   ]
  }
 ],
 "metadata": {
  "kernelspec": {
   "display_name": "env_audio_analysis",
   "language": "python",
   "name": "env_audio_analysis"
  },
  "language_info": {
   "codemirror_mode": {
    "name": "ipython",
    "version": 3
   },
   "file_extension": ".py",
   "mimetype": "text/x-python",
   "name": "python",
   "nbconvert_exporter": "python",
   "pygments_lexer": "ipython3",
   "version": "3.7.4"
  }
 },
 "nbformat": 4,
 "nbformat_minor": 4
}
